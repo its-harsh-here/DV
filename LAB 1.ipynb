{
 "cells": [
  {
   "cell_type": "code",
   "execution_count": 1,
   "id": "6600f231-9bbe-469a-973e-8a6bda52cb2c",
   "metadata": {},
   "outputs": [
    {
     "name": "stdin",
     "output_type": "stream",
     "text": [
      "Enter number x:  10\n",
      "Enter number y:  3\n"
     ]
    },
    {
     "name": "stdout",
     "output_type": "stream",
     "text": [
      "x + y = 13\n",
      "x - y = 7\n",
      "x * y = 30\n",
      "x / y = 3.33\n"
     ]
    }
   ],
   "source": [
    "# Q1\n",
    "\n",
    "x = int(input(\"Enter number x: \"))\n",
    "y = int(input(\"Enter number y: \"))\n",
    "print(\"x + y = %d\" % (x + y))\n",
    "print(\"x - y = %d\" % (x - y))\n",
    "print(\"x * y = %d\" % (x * y))\n",
    "print(\"x / y = %.2f\" % (x / y))"
   ]
  },
  {
   "cell_type": "code",
   "execution_count": 3,
   "id": "788f04cc-1623-4cc7-810e-fc7fbe356f82",
   "metadata": {},
   "outputs": [
    {
     "name": "stdin",
     "output_type": "stream",
     "text": [
      "Enter a number:  5\n"
     ]
    },
    {
     "name": "stdout",
     "output_type": "stream",
     "text": [
      "5 is a prime number\n"
     ]
    }
   ],
   "source": [
    "# Q2\n",
    "\n",
    "def prime (n):\n",
    "    for i in range(2, n - 1):\n",
    "        if (n % i == 0):\n",
    "            return False\n",
    "    return True\n",
    "\n",
    "n = int(input(\"Enter a number: \"))\n",
    "if(prime(n)):\n",
    "    print(\"{} is a prime number\".format(n))\n",
    "else:\n",
    "    print(\"{} is not a prime number\".format(n))"
   ]
  },
  {
   "cell_type": "code",
   "execution_count": 5,
   "id": "f7626df6-2dec-4d86-b70d-a9da383700ca",
   "metadata": {},
   "outputs": [
    {
     "name": "stdout",
     "output_type": "stream",
     "text": [
      "Odd Numbers between 1 and 100: \n",
      "1 3 5 7 9 11 13 15 17 19 21 23 25 27 29 31 33 35 37 39 41 43 45 47 49 51 53 55 57 59 61 63 65 67 69 71 73 75 77 79 81 83 85 87 89 91 93 95 97 99 \n",
      "Sum of Even Numbers: 2550\n"
     ]
    }
   ],
   "source": [
    "# Q3\n",
    "\n",
    "def calc():\n",
    "    sum = 0\n",
    "    print(\"Odd Numbers between 1 and 100: \")\n",
    "    for i in range(1, 101):\n",
    "        if (i % 2 == 0):\n",
    "            sum += i\n",
    "        else:\n",
    "            print(f\"{i}\", end = \" \")\n",
    "    return sum\n",
    "\n",
    "print(\"\\nSum of Even Numbers: %d\"%(calc()))"
   ]
  },
  {
   "cell_type": "code",
   "execution_count": 7,
   "id": "0a1f1aa0-31b9-4ee3-a5ea-8acec7175e09",
   "metadata": {},
   "outputs": [
    {
     "name": "stdin",
     "output_type": "stream",
     "text": [
      "Enter:\n",
      "1. for Int\n",
      "2. for Float\n",
      "3. For String\n",
      " 3\n",
      "Enter a:  Hello\n",
      "Enter b:  , Manipal\n"
     ]
    },
    {
     "name": "stdout",
     "output_type": "stream",
     "text": [
      "Adding a + b: Hello, Manipal\n"
     ]
    }
   ],
   "source": [
    "# Q4\n",
    "\n",
    "def add(a, b):\n",
    "    print(\"Adding a + b: {}\".format(a + b))\n",
    "    \n",
    "c = int(input(\"Enter:\\n1. for Int\\n2. for Float\\n3. For String\\n\"))\n",
    "if (c == 1):\n",
    "    a = int(input(\"Enter a: \"))\n",
    "    b = int(input(\"Enter b: \"))\n",
    "elif(c == 2):\n",
    "    a = float(input(\"Enter a: \"))\n",
    "    b = float(input(\"Enter b: \"))\n",
    "else:\n",
    "    a = input(\"Enter a: \")\n",
    "    b = input(\"Enter b: \")\n",
    "add(a, b)"
   ]
  },
  {
   "cell_type": "code",
   "execution_count": 9,
   "id": "d050df2e-c385-4673-9e10-7d96c7336112",
   "metadata": {},
   "outputs": [
    {
     "name": "stdin",
     "output_type": "stream",
     "text": [
      "Enter a string:  Hello from MaNiPaL\n"
     ]
    },
    {
     "name": "stdout",
     "output_type": "stream",
     "text": [
      "Number of Vowels: 6\n",
      "Number of Consonants: 10\n"
     ]
    }
   ],
   "source": [
    "# Q5\n",
    "\n",
    "def count(s):\n",
    "    s.lower()\n",
    "    v = 0\n",
    "    c = 0\n",
    "    for i in s:\n",
    "        if i in ['a', 'e', 'i', 'o', 'u']:\n",
    "            v += 1\n",
    "        elif (i != \" \"):\n",
    "            c += 1\n",
    "    print(f\"Number of Vowels: {v}\\nNumber of Consonants: {c}\")\n",
    "\n",
    "count(input(\"Enter a string: \"))"
   ]
  }
 ],
 "metadata": {
  "kernelspec": {
   "display_name": "Python [conda env:base] *",
   "language": "python",
   "name": "conda-base-py"
  },
  "language_info": {
   "codemirror_mode": {
    "name": "ipython",
    "version": 3
   },
   "file_extension": ".py",
   "mimetype": "text/x-python",
   "name": "python",
   "nbconvert_exporter": "python",
   "pygments_lexer": "ipython3",
   "version": "3.12.7"
  }
 },
 "nbformat": 4,
 "nbformat_minor": 5
}
