{
 "cells": [
  {
   "cell_type": "code",
   "execution_count": 8,
   "id": "6600f231-9bbe-469a-973e-8a6bda52cb2c",
   "metadata": {},
   "outputs": [
    {
     "name": "stdout",
     "output_type": "stream",
     "text": [
      "Average temp for the week:  22.00*C\n",
      "Max temp: 25 on Friday\n",
      "Min temp: 19 on Sunday\n"
     ]
    },
    {
     "name": "stdin",
     "output_type": "stream",
     "text": [
      "Enter Temperature:  22\n"
     ]
    },
    {
     "name": "stdout",
     "output_type": "stream",
     "text": [
      "Temp greater than 22*C\n",
      "Tuesday     24\n",
      "Thursday    23\n",
      "Friday      25\n",
      "dtype: int64\n",
      "Temp in Fahrenheit:  Monday       71.6\n",
      "Tuesday      75.2\n",
      "Wednesday    69.8\n",
      "Thursday     73.4\n",
      "Friday       77.0\n",
      "Saturday     68.0\n",
      "Sunday       66.2\n",
      "dtype: float64\n",
      "Days with temp above avg:\n",
      " Tuesday     24\n",
      "Thursday    23\n",
      "Friday      25\n",
      "dtype: int64\n"
     ]
    }
   ],
   "source": [
    "#14\n",
    "\n",
    "import pandas as pd\n",
    "\n",
    "temp = [22, 24, 21, 23, 25, 20, 19]\n",
    "days = ['Monday', 'Tuesday', 'Wednesday', 'Thursday', 'Friday', 'Saturday', 'Sunday']\n",
    "t_s = pd.Series(temp, index = days)\n",
    "a_t = t_s.mean()\n",
    "print(f\"Average temp for the week: {a_t: .2f}*C\")\n",
    "\n",
    "max_t = t_s.max()\n",
    "min_t = t_s.min()\n",
    "max_d = t_s.idxmax()\n",
    "min_d = t_s.idxmin()\n",
    "\n",
    "print(f\"Max temp: {max_t} on {max_d}\")\n",
    "print(f\"Min temp: {min_t} on {min_d}\")\n",
    "\n",
    "t = int(input(\"Enter Temperature: \"))\n",
    "av = t_s[t_s > t]\n",
    "print(f\"Temp greater than {t}*C\\n{av}\")\n",
    "\n",
    "f = (t_s * 9/5 + 32)\n",
    "print(\"Temp in Fahrenheit: \", f)\n",
    "\n",
    "a = t_s[t_s > a_t]\n",
    "print(\"Days with temp above avg:\\n\", a)"
   ]
  },
  {
   "cell_type": "code",
   "execution_count": null,
   "id": "ecc0de36-238c-4565-b6bb-94f95977e836",
   "metadata": {},
   "outputs": [],
   "source": [
    "#15 \n",
    "\n",
    "import pandas as pd\n",
    "\n",
    "data = {\n",
    "    'Roll Number': [1, 2, 3, 4, 5, 6, 7, 8, 9, 10]\n",
    "    \n",
    "}"
   ]
  }
 ],
 "metadata": {
  "kernelspec": {
   "display_name": "Python [conda env:base] *",
   "language": "python",
   "name": "conda-base-py"
  },
  "language_info": {
   "codemirror_mode": {
    "name": "ipython",
    "version": 3
   },
   "file_extension": ".py",
   "mimetype": "text/x-python",
   "name": "python",
   "nbconvert_exporter": "python",
   "pygments_lexer": "ipython3",
   "version": "3.12.7"
  }
 },
 "nbformat": 4,
 "nbformat_minor": 5
}
