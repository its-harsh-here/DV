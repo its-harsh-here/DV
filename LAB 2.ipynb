{
 "cells": [
  {
   "cell_type": "code",
   "execution_count": 7,
   "id": "56bc2d45-3898-42a5-a1d9-1df5b8919b32",
   "metadata": {},
   "outputs": [
    {
     "name": "stdin",
     "output_type": "stream",
     "text": [
      "Enter Numbers:  1 2 3 4 5 5 6 7 8 9 10\n",
      "Enter number to count:  5\n"
     ]
    },
    {
     "name": "stdout",
     "output_type": "stream",
     "text": [
      "Largest 10\n",
      "Smallest 1\n",
      "Sum 60\n",
      "Average 5.454545454545454\n",
      "No. of Occurence 2\n"
     ]
    }
   ],
   "source": [
    "#6\n",
    "\n",
    "num = list(map(int,input(\"Enter Numbers: \").split()))\n",
    "l = max(num)\n",
    "s = min(num)\n",
    "a = sum(num)\n",
    "avg = a / len(num)\n",
    "n = int(input(\"Enter number to count: \"))\n",
    "c = num.count(n)\n",
    "print(f\"Largest {l}\\nSmallest {s}\\nSum {a}\\nAverage {avg}\\nNo. of Occurence {c}\")"
   ]
  },
  {
   "cell_type": "code",
   "execution_count": 9,
   "id": "6600f231-9bbe-469a-973e-8a6bda52cb2c",
   "metadata": {},
   "outputs": [
    {
     "ename": "TypeError",
     "evalue": "'tuple' object does not support item assignment",
     "output_type": "error",
     "traceback": [
      "\u001b[0;31m---------------------------------------------------------------------------\u001b[0m",
      "\u001b[0;31mTypeError\u001b[0m                                 Traceback (most recent call last)",
      "Cell \u001b[0;32mIn[9], line 4\u001b[0m\n\u001b[1;32m      1\u001b[0m \u001b[38;5;66;03m#7\u001b[39;00m\n\u001b[1;32m      3\u001b[0m t \u001b[38;5;241m=\u001b[39m (\u001b[38;5;241m1\u001b[39m, \u001b[38;5;241m2\u001b[39m, \u001b[38;5;241m3\u001b[39m, \u001b[38;5;241m4\u001b[39m, \u001b[38;5;241m5\u001b[39m)\n\u001b[0;32m----> 4\u001b[0m t[\u001b[38;5;241m2\u001b[39m] \u001b[38;5;241m=\u001b[39m \u001b[38;5;241m8\u001b[39m\n\u001b[1;32m      5\u001b[0m \u001b[38;5;28mprint\u001b[39m(\u001b[38;5;124m\"\u001b[39m\u001b[38;5;124mThis will give error since tuples are immutable due to which they can\u001b[39m\u001b[38;5;124m'\u001b[39m\u001b[38;5;124mt be altered\u001b[39m\u001b[38;5;124m\"\u001b[39m)\n",
      "\u001b[0;31mTypeError\u001b[0m: 'tuple' object does not support item assignment"
     ]
    }
   ],
   "source": [
    "#7\n",
    "\n",
    "t = (1, 2, 3, 4, 5)\n",
    "t[2] = 8\n",
    "print(\"This will give error since tuples are immutable due to which they can't be altered\")"
   ]
  },
  {
   "cell_type": "code",
   "execution_count": 17,
   "id": "3ee0c3d7-efa9-4a41-ba9c-02a08d0ac161",
   "metadata": {},
   "outputs": [
    {
     "name": "stdout",
     "output_type": "stream",
     "text": [
      "Australia  got the most wins\n",
      "A unique list of countries is given below: \n",
      "{'Australia', 'West Indies', 'Sri Lanka', 'India', 'England', 'Pakistan'}\n"
     ]
    }
   ],
   "source": [
    "#8\n",
    "\n",
    "win = {1975: \"West Indies\", 1979: \"West Indies\", 1983: \"India\", 1987: \"Australia\", 1992: \"Pakistan\", 1996: \"Sri Lanka\", 1989: \"Australia\",\n",
    "       2003: \"Australia\", 2007: \"Australia\", 2011: \"India\", 2015: \"Australia\", 2019: \"England\", 2023: \"Australia\"}\n",
    "l = list(win.values())\n",
    "s = set(l)\n",
    "h = 0\n",
    "m = \"None\"\n",
    "for i in s:\n",
    "    c = 0\n",
    "    for j in l:\n",
    "        if (i == j):\n",
    "            c += 1\n",
    "        if (c > h):\n",
    "            m = i\n",
    "            h = c\n",
    "print(m, \" got the most wins\")\n",
    "print(\"A unique list of countries is given below: \")\n",
    "print(s)\n",
    "       "
   ]
  },
  {
   "cell_type": "code",
   "execution_count": 23,
   "id": "15d33dfc-9e6f-4223-a6eb-81ed7c207bf5",
   "metadata": {},
   "outputs": [
    {
     "name": "stdin",
     "output_type": "stream",
     "text": [
      "Enter a string:  Hi Hi Hi Hello Hello Bye!\n"
     ]
    },
    {
     "name": "stdout",
     "output_type": "stream",
     "text": [
      "{'Bye!': 1, 'Hi': 3, 'Hello': 2}\n"
     ]
    }
   ],
   "source": [
    "#9\n",
    "\n",
    "s = input(\"Enter a string: \")\n",
    "l = list(s.split())\n",
    "st = set(l)\n",
    "r = [l.count(word) for word in st]\n",
    "d = {word : count for word, count in zip(st, r)}\n",
    "print(d)"
   ]
  },
  {
   "cell_type": "code",
   "execution_count": 27,
   "id": "1b2ef6f9-c94a-495e-bc99-8846eac93739",
   "metadata": {},
   "outputs": [
    {
     "name": "stdin",
     "output_type": "stream",
     "text": [
      "Enter number into first set:  1 2 3 4 5\n",
      "Enter number into second set:  3 4 5 6 7\n"
     ]
    },
    {
     "name": "stdout",
     "output_type": "stream",
     "text": [
      "Union is: {1, 2, 3, 4, 5, 6, 7}\n",
      "Intersection is: {3, 4, 5}\n",
      "Difference is: {1, 2}\n"
     ]
    }
   ],
   "source": [
    "#10\n",
    "\n",
    "set1 = set(map(int, input(\"Enter number into first set: \").split()))\n",
    "set2 = set(map(int, input(\"Enter number into second set: \").split()))\n",
    "u = set1 | set2\n",
    "i = set1 & set2\n",
    "d = set1 - set2\n",
    "print(f\"Union is: {u}\\nIntersection is: {i}\\nDifference is: {d}\")"
   ]
  }
 ],
 "metadata": {
  "kernelspec": {
   "display_name": "Python [conda env:base] *",
   "language": "python",
   "name": "conda-base-py"
  },
  "language_info": {
   "codemirror_mode": {
    "name": "ipython",
    "version": 3
   },
   "file_extension": ".py",
   "mimetype": "text/x-python",
   "name": "python",
   "nbconvert_exporter": "python",
   "pygments_lexer": "ipython3",
   "version": "3.12.7"
  }
 },
 "nbformat": 4,
 "nbformat_minor": 5
}
