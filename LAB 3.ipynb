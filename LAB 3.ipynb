{
 "cells": [
  {
   "cell_type": "code",
   "execution_count": 20,
   "id": "6600f231-9bbe-469a-973e-8a6bda52cb2c",
   "metadata": {},
   "outputs": [
    {
     "name": "stdout",
     "output_type": "stream",
     "text": [
      "[[ 4 12 48 27]\n",
      " [25 45  1  9]\n",
      " [34 49 50 49]]\n",
      "Mean:  29.416666666666668 \n",
      "Median:  30.5 \n",
      "Standard Deviation:  18.254946057317056\n",
      "The sum of  0  row is  91\n",
      "The sum of  1  row is  80\n",
      "The sum of  2  row is  182\n",
      "The total sum is  353\n",
      "[[ 4 12 48 27 25 45]\n",
      " [ 1  9 34 49 50 49]]\n"
     ]
    }
   ],
   "source": [
    "#11\n",
    "\n",
    "import numpy as np\n",
    "a = np.random.randint(1, 51, size = (3, 4))\n",
    "print(a)\n",
    "print(\"Mean: \", np.mean(a), \"\\nMedian: \", np.median(a), \"\\nStandard Deviation: \", np.std(a))\n",
    "c = 0\n",
    "s = [0]\n",
    "for i in range(3):\n",
    "    s.append(0)\n",
    "    for j in a[i]:\n",
    "        s[i] += j\n",
    "    c += s[i]\n",
    "for i in range(3):\n",
    "    print(\"The sum of \", i, \" row is \", s[i])\n",
    "print(\"The total sum is \", c)\n",
    "a = np.reshape(a, (2, 6))\n",
    "print(a)"
   ]
  },
  {
   "cell_type": "code",
   "execution_count": 26,
   "id": "f0cb9e72-5ca5-403c-8b5c-e9464ddf6ebe",
   "metadata": {},
   "outputs": [
    {
     "name": "stdout",
     "output_type": "stream",
     "text": [
      "a:\n",
      " [[18 10 24]\n",
      " [12  1 29]\n",
      " [46  3 47]]\n",
      "b:\n",
      " [[40 34 44]\n",
      " [17 25 45]\n",
      " [37 49 16]]\n",
      "The sum is:  [[58 44 68]\n",
      " [29 26 74]\n",
      " [83 52 63]]\n",
      "The product is:  [[ 720  340 1056]\n",
      " [ 204   25 1305]\n",
      " [1702  147  752]]\n",
      "The difference is:  [[-22 -24 -20]\n",
      " [ -5 -24 -16]\n",
      " [  9 -46  31]]\n",
      "The transpose is:  6740.000000000007 \n",
      " -28885.999999999975\n",
      "Inverse of a is: \n",
      " [[0.00267062 0.00178042 0.00682493]\n",
      " [0.00148368 0.00014837 0.0004451 ]\n",
      " [0.00356083 0.00430267 0.00697329]]\n",
      "Inverse of a is: \n",
      " [[-0.00138475 -0.00058852 -0.0012809 ]\n",
      " [-0.00117704 -0.00086547 -0.00169632]\n",
      " [-0.00152323 -0.00155785 -0.0005539 ]]\n"
     ]
    }
   ],
   "source": [
    "#12\n",
    "\n",
    "import numpy as np\n",
    "a = np.random.randint(1, 51, size = (3, 3))\n",
    "print(\"a:\\n\", a)\n",
    "b = np.random.randint(1, 51, size = (3, 3))\n",
    "print(\"b:\\n\", b)\n",
    "print(\"The sum is: \", a + b)\n",
    "print(\"The product is: \", a * b)\n",
    "print(\"The difference is: \", a - b)\n",
    "print(\"The transpose is: \", np.linalg.det(a), \"\\n\", np.linalg.det(b))\n",
    "if(np.linalg.det(a) != 0):\n",
    "    print(\"Inverse of a is: \\n\", np.transpose(a) / np.linalg.det(a))\n",
    "if(np.linalg.det(b) != 0):\n",
    "    print(\"Inverse of a is: \\n\", np.transpose(b) / np.linalg.det(b))"
   ]
  },
  {
   "cell_type": "code",
   "execution_count": 30,
   "id": "7dafca7f-2372-41d4-b521-d068ddb254d6",
   "metadata": {},
   "outputs": [],
   "source": [
    "#13\n",
    "import numpy as np"
   ]
  },
  {
   "cell_type": "code",
   "execution_count": 80,
   "id": "b115062b-0b53-40ee-a735-51ecac0ff957",
   "metadata": {},
   "outputs": [
    {
     "name": "stdout",
     "output_type": "stream",
     "text": [
      "[0. 0. 0. 0. 0. 0. 0. 0. 0. 0.]\n"
     ]
    }
   ],
   "source": [
    "#a\n",
    "\n",
    "vector = np.zeros(10)\n",
    "print(vector)"
   ]
  },
  {
   "cell_type": "code",
   "execution_count": 82,
   "id": "3d36695b-9744-42fd-9b45-7705c1740148",
   "metadata": {},
   "outputs": [
    {
     "name": "stdout",
     "output_type": "stream",
     "text": [
      "[0. 0. 0. 0. 1. 0. 0. 0. 0. 0.]\n"
     ]
    }
   ],
   "source": [
    "#b\n",
    "\n",
    "vector = np.zeros(10)\n",
    "vector[4] = 1\n",
    "print(vector)"
   ]
  },
  {
   "cell_type": "code",
   "execution_count": 84,
   "id": "d5c8dd08-dfba-451e-b50c-31754e6c50c3",
   "metadata": {},
   "outputs": [
    {
     "name": "stdout",
     "output_type": "stream",
     "text": [
      "[154 443 254 237 278 479 309 368 359 308]\n"
     ]
    }
   ],
   "source": [
    "#c\n",
    "\n",
    "vector = np.random.randint(100, 490, size = 10)\n",
    "print(vector)"
   ]
  },
  {
   "cell_type": "code",
   "execution_count": 86,
   "id": "6de8a52f-9216-4a1e-8089-bf08f900c306",
   "metadata": {},
   "outputs": [
    {
     "name": "stdout",
     "output_type": "stream",
     "text": [
      "[31 44 10 25 29 19 46 11 19 47]\n"
     ]
    }
   ],
   "source": [
    "#d\n",
    "\n",
    "vector = np.random.randint(0, 51, size = 10)\n",
    "reverse = np.flip(vector)\n",
    "print(reverse)"
   ]
  },
  {
   "cell_type": "code",
   "execution_count": 88,
   "id": "1bb2b28e-027a-499a-9cc3-a4d55b4da419",
   "metadata": {},
   "outputs": [
    {
     "data": {
      "text/plain": [
       "array([[3, 3, 3],\n",
       "       [1, 8, 1],\n",
       "       [4, 5, 3]])"
      ]
     },
     "execution_count": 88,
     "metadata": {},
     "output_type": "execute_result"
    }
   ],
   "source": [
    "#e\n",
    "\n",
    "vector = np.random.randint(0, 9, size = (3, 3))\n",
    "vector"
   ]
  },
  {
   "cell_type": "code",
   "execution_count": 90,
   "id": "cf031114-7901-4b6b-9ea4-739f770cd3bb",
   "metadata": {},
   "outputs": [
    {
     "name": "stdout",
     "output_type": "stream",
     "text": [
      "[[1. 0. 0.]\n",
      " [0. 1. 0.]\n",
      " [0. 0. 1.]]\n"
     ]
    }
   ],
   "source": [
    "#f\n",
    "\n",
    "vector = np.eye(3)\n",
    "print(vector)"
   ]
  },
  {
   "cell_type": "code",
   "execution_count": 92,
   "id": "942bdc68-c7fe-4ed8-bd2b-40833254f792",
   "metadata": {},
   "outputs": [
    {
     "name": "stdout",
     "output_type": "stream",
     "text": [
      "[[[321 713 127]\n",
      "  [778 711 624]\n",
      "  [547 450 409]]\n",
      "\n",
      " [[604 773 279]\n",
      "  [967 462 646]\n",
      "  [943 452  87]]\n",
      "\n",
      " [[800 157 151]\n",
      "  [241 397 694]\n",
      "  [363 487 216]]]\n"
     ]
    }
   ],
   "source": [
    "#g\n",
    "\n",
    "vector = np.random.randint(0, 1000, size = (3, 3, 3))\n",
    "print(vector)"
   ]
  },
  {
   "cell_type": "code",
   "execution_count": 94,
   "id": "c209ab2b-5064-479f-99ed-79f826933c83",
   "metadata": {},
   "outputs": [
    {
     "name": "stdout",
     "output_type": "stream",
     "text": [
      "[[[633 109 393]\n",
      "  [650 353 493]\n",
      "  [728 646 125]]\n",
      "\n",
      " [[ 36 517 529]\n",
      "  [597  90 351]\n",
      "  [814 250 521]]\n",
      "\n",
      " [[103 194 333]\n",
      "  [924 469  24]\n",
      "  [399 174 931]]]\n",
      "Largest value: 931\n",
      "Smallest Value: 24\n"
     ]
    }
   ],
   "source": [
    "#h\n",
    "\n",
    "array = np.random.randint(0, 1000, size = (3, 3, 3))\n",
    "large = np.max(array)\n",
    "small = np.min(array)\n",
    "print(array)\n",
    "print(f\"Largest value: {large}\\nSmallest Value: {small}\")"
   ]
  },
  {
   "cell_type": "code",
   "execution_count": null,
   "id": "5462f5c3-86a2-4536-9af9-8fd75e472d96",
   "metadata": {},
   "outputs": [],
   "source": []
  }
 ],
 "metadata": {
  "kernelspec": {
   "display_name": "Python [conda env:base] *",
   "language": "python",
   "name": "conda-base-py"
  },
  "language_info": {
   "codemirror_mode": {
    "name": "ipython",
    "version": 3
   },
   "file_extension": ".py",
   "mimetype": "text/x-python",
   "name": "python",
   "nbconvert_exporter": "python",
   "pygments_lexer": "ipython3",
   "version": "3.12.7"
  }
 },
 "nbformat": 4,
 "nbformat_minor": 5
}
